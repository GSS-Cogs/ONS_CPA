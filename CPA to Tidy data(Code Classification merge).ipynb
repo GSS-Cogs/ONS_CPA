{
 "cells": [
  {
   "cell_type": "markdown",
   "metadata": {},
   "source": [
    "###  CPA xlsx to Tidydata"
   ]
  },
  {
   "cell_type": "code",
   "execution_count": 1,
   "metadata": {
    "collapsed": true
   },
   "outputs": [],
   "source": [
    "from databaker.framework import *"
   ]
  },
  {
   "cell_type": "code",
   "execution_count": 2,
   "metadata": {
    "collapsed": true
   },
   "outputs": [],
   "source": [
    "import pandas as pd "
   ]
  },
  {
   "cell_type": "code",
   "execution_count": 3,
   "metadata": {
    "collapsed": true
   },
   "outputs": [],
   "source": [
    "inputFile = 'mq10.xlsx'"
   ]
  },
  {
   "cell_type": "code",
   "execution_count": 4,
   "metadata": {},
   "outputs": [
    {
     "name": "stdout",
     "output_type": "stream",
     "text": [
      "Loading mq10.xlsx which has size 2222819 bytes\n",
      "Table names: ['data']\n"
     ]
    }
   ],
   "source": [
    "tab = loadxlstabs(inputFile)"
   ]
  },
  {
   "cell_type": "code",
   "execution_count": 5,
   "metadata": {
    "collapsed": true
   },
   "outputs": [],
   "source": [
    "tab = tab[0]"
   ]
  },
  {
   "cell_type": "code",
   "execution_count": 6,
   "metadata": {
    "collapsed": true
   },
   "outputs": [],
   "source": [
    "observations = tab.excel_ref('B8').expand(DOWN).expand(RIGHT).is_not_blank()"
   ]
  },
  {
   "cell_type": "code",
   "execution_count": 7,
   "metadata": {
    "collapsed": true
   },
   "outputs": [],
   "source": [
    "Title = tab.excel_ref('B1').expand(RIGHT).is_not_blank()"
   ]
  },
  {
   "cell_type": "code",
   "execution_count": 8,
   "metadata": {
    "collapsed": true
   },
   "outputs": [],
   "source": [
    "CDID = tab.excel_ref('B2').expand(RIGHT).is_not_blank()"
   ]
  },
  {
   "cell_type": "code",
   "execution_count": 9,
   "metadata": {
    "collapsed": true
   },
   "outputs": [],
   "source": [
    "Year = tab.excel_ref('A8').expand(DOWN).is_not_blank()"
   ]
  },
  {
   "cell_type": "code",
   "execution_count": 10,
   "metadata": {
    "collapsed": true
   },
   "outputs": [],
   "source": [
    "Currency = tab.excel_ref('P3')"
   ]
  },
  {
   "cell_type": "code",
   "execution_count": 18,
   "metadata": {},
   "outputs": [],
   "source": [
    "Dimensions = [\n",
    "            HDimConst('Geography', 'K02000001'),\n",
    "            HDim(Year,'TIME',DIRECTLY,LEFT),\n",
    "            HDim(CDID,'Cdid',DIRECTLY,ABOVE),\n",
    "            HDimConst('Unit', '£ Millions'), \n",
    "            HDimConst('Measure Type','GBP Total'),\n",
    "            HDim( Title, 'Title', DIRECTLY, ABOVE)\n",
    "]"
   ]
  },
  {
   "cell_type": "code",
   "execution_count": 19,
   "metadata": {
    "collapsed": true
   },
   "outputs": [],
   "source": [
    "c1 = ConversionSegment(observations, Dimensions, processTIMEUNIT=True)"
   ]
  },
  {
   "cell_type": "code",
   "execution_count": 20,
   "metadata": {},
   "outputs": [
    {
     "name": "stdout",
     "output_type": "stream",
     "text": [
      "multiple TIMEUNITs: 'Year'(87103), 'Quarter'(348477)\n"
     ]
    }
   ],
   "source": [
    "new_table = c1.topandas()"
   ]
  },
  {
   "cell_type": "code",
   "execution_count": 21,
   "metadata": {},
   "outputs": [
    {
     "name": "stdout",
     "output_type": "stream",
     "text": [
      "435580\n"
     ]
    }
   ],
   "source": [
    "print(len(new_table))"
   ]
  },
  {
   "cell_type": "code",
   "execution_count": 22,
   "metadata": {
    "collapsed": true
   },
   "outputs": [],
   "source": [
    "temp_table = pd.read_excel('cord_sitc classification table.xlsx', sheet_name = 0)"
   ]
  },
  {
   "cell_type": "code",
   "execution_count": 23,
   "metadata": {
    "collapsed": true
   },
   "outputs": [],
   "source": [
    "temp_table = temp_table.reset_index()"
   ]
  },
  {
   "cell_type": "code",
   "execution_count": 24,
   "metadata": {
    "collapsed": true
   },
   "outputs": [],
   "source": [
    "temp_table.drop(['level_0','level_1','Sequence'], axis =1, inplace = True)"
   ]
  },
  {
   "cell_type": "code",
   "execution_count": 25,
   "metadata": {
    "collapsed": true
   },
   "outputs": [
    {
     "data": {
      "text/html": [
       "<div>\n",
       "<style>\n",
       "    .dataframe thead tr:only-child th {\n",
       "        text-align: right;\n",
       "    }\n",
       "\n",
       "    .dataframe thead th {\n",
       "        text-align: left;\n",
       "    }\n",
       "\n",
       "    .dataframe tbody tr th {\n",
       "        vertical-align: top;\n",
       "    }\n",
       "</style>\n",
       "<table border=\"1\" class=\"dataframe\">\n",
       "  <thead>\n",
       "    <tr style=\"text-align: right;\">\n",
       "      <th></th>\n",
       "      <th>cdid</th>\n",
       "      <th>COMMODITY</th>\n",
       "      <th>AREA</th>\n",
       "      <th>DIRECTION</th>\n",
       "      <th>BASIS</th>\n",
       "      <th>PRICE</th>\n",
       "      <th>SEASADJ</th>\n",
       "      <th>PERIOD</th>\n",
       "    </tr>\n",
       "  </thead>\n",
       "  <tbody>\n",
       "    <tr>\n",
       "      <th>6196</th>\n",
       "      <td>BPFR</td>\n",
       "      <td>5min8minE</td>\n",
       "      <td>WW</td>\n",
       "      <td>IM</td>\n",
       "      <td>BOP</td>\n",
       "      <td>IDEF</td>\n",
       "      <td>NSA</td>\n",
       "      <td>M</td>\n",
       "    </tr>\n",
       "    <tr>\n",
       "      <th>6197</th>\n",
       "      <td>BPGR</td>\n",
       "      <td>5min8minE</td>\n",
       "      <td>WW</td>\n",
       "      <td>IM</td>\n",
       "      <td>BOP</td>\n",
       "      <td>IDEF</td>\n",
       "      <td>SA</td>\n",
       "      <td>M</td>\n",
       "    </tr>\n",
       "    <tr>\n",
       "      <th>6198</th>\n",
       "      <td>BPCR</td>\n",
       "      <td>5min8minE</td>\n",
       "      <td>WW</td>\n",
       "      <td>IM</td>\n",
       "      <td>BOP</td>\n",
       "      <td>VM</td>\n",
       "      <td>NSA</td>\n",
       "      <td>M</td>\n",
       "    </tr>\n",
       "    <tr>\n",
       "      <th>6199</th>\n",
       "      <td>ELAI</td>\n",
       "      <td>5min8minE</td>\n",
       "      <td>WW</td>\n",
       "      <td>IM</td>\n",
       "      <td>BOP</td>\n",
       "      <td>VM</td>\n",
       "      <td>SA</td>\n",
       "      <td>M</td>\n",
       "    </tr>\n",
       "    <tr>\n",
       "      <th>6200</th>\n",
       "      <td>NaN</td>\n",
       "      <td>NaN</td>\n",
       "      <td>NaN</td>\n",
       "      <td>NaN</td>\n",
       "      <td>NaN</td>\n",
       "      <td>NaN</td>\n",
       "      <td>NaN</td>\n",
       "      <td>NaN</td>\n",
       "    </tr>\n",
       "  </tbody>\n",
       "</table>\n",
       "</div>"
      ],
      "text/plain": [
       "      cdid  COMMODITY AREA DIRECTION BASIS PRICE SEASADJ PERIOD\n",
       "6196  BPFR  5min8minE   WW        IM   BOP  IDEF     NSA      M\n",
       "6197  BPGR  5min8minE   WW        IM   BOP  IDEF      SA      M\n",
       "6198  BPCR  5min8minE   WW        IM   BOP    VM     NSA      M\n",
       "6199  ELAI  5min8minE   WW        IM   BOP    VM      SA      M\n",
       "6200   NaN        NaN  NaN       NaN   NaN   NaN     NaN    NaN"
      ]
     },
     "execution_count": 25,
     "metadata": {},
     "output_type": "execute_result"
    }
   ],
   "source": [
    "temp_table.tail()"
   ]
  },
  {
   "cell_type": "code",
   "execution_count": 26,
   "metadata": {
    "collapsed": true
   },
   "outputs": [],
   "source": [
    "classification1 = pd.read_excel('CSDB classification tables.xlsx', 'cord_sitc')"
   ]
  },
  {
   "cell_type": "code",
   "execution_count": 27,
   "metadata": {
    "collapsed": true
   },
   "outputs": [
    {
     "data": {
      "text/html": [
       "<div>\n",
       "<style>\n",
       "    .dataframe thead tr:only-child th {\n",
       "        text-align: right;\n",
       "    }\n",
       "\n",
       "    .dataframe thead th {\n",
       "        text-align: left;\n",
       "    }\n",
       "\n",
       "    .dataframe tbody tr th {\n",
       "        vertical-align: top;\n",
       "    }\n",
       "</style>\n",
       "<table border=\"1\" class=\"dataframe\">\n",
       "  <thead>\n",
       "    <tr style=\"text-align: right;\">\n",
       "      <th></th>\n",
       "      <th>cdid</th>\n",
       "      <th>COMMODITY</th>\n",
       "      <th>AREA</th>\n",
       "      <th>DIRECTION</th>\n",
       "      <th>BASIS</th>\n",
       "      <th>PRICE</th>\n",
       "      <th>SEASADJ</th>\n",
       "      <th>PERIOD</th>\n",
       "    </tr>\n",
       "  </thead>\n",
       "  <tbody>\n",
       "    <tr>\n",
       "      <th>6193</th>\n",
       "      <td>ELAX</td>\n",
       "      <td>5min8minE</td>\n",
       "      <td>WW</td>\n",
       "      <td>IM</td>\n",
       "      <td>BOP</td>\n",
       "      <td>DEF</td>\n",
       "      <td>NSA</td>\n",
       "      <td>Q</td>\n",
       "    </tr>\n",
       "    <tr>\n",
       "      <th>6194</th>\n",
       "      <td>BPFR</td>\n",
       "      <td>5min8minE</td>\n",
       "      <td>WW</td>\n",
       "      <td>IM</td>\n",
       "      <td>BOP</td>\n",
       "      <td>IDEF</td>\n",
       "      <td>NSA</td>\n",
       "      <td>Q</td>\n",
       "    </tr>\n",
       "    <tr>\n",
       "      <th>6195</th>\n",
       "      <td>BPGR</td>\n",
       "      <td>5min8minE</td>\n",
       "      <td>WW</td>\n",
       "      <td>IM</td>\n",
       "      <td>BOP</td>\n",
       "      <td>IDEF</td>\n",
       "      <td>SA</td>\n",
       "      <td>Q</td>\n",
       "    </tr>\n",
       "    <tr>\n",
       "      <th>6196</th>\n",
       "      <td>BPCR</td>\n",
       "      <td>5min8minE</td>\n",
       "      <td>WW</td>\n",
       "      <td>IM</td>\n",
       "      <td>BOP</td>\n",
       "      <td>VM</td>\n",
       "      <td>NSA</td>\n",
       "      <td>Q</td>\n",
       "    </tr>\n",
       "    <tr>\n",
       "      <th>6197</th>\n",
       "      <td>ELAI</td>\n",
       "      <td>5min8minE</td>\n",
       "      <td>WW</td>\n",
       "      <td>IM</td>\n",
       "      <td>BOP</td>\n",
       "      <td>VM</td>\n",
       "      <td>SA</td>\n",
       "      <td>Q</td>\n",
       "    </tr>\n",
       "  </tbody>\n",
       "</table>\n",
       "</div>"
      ],
      "text/plain": [
       "      cdid  COMMODITY AREA DIRECTION BASIS PRICE SEASADJ PERIOD\n",
       "6193  ELAX  5min8minE   WW        IM   BOP   DEF     NSA      Q\n",
       "6194  BPFR  5min8minE   WW        IM   BOP  IDEF     NSA      Q\n",
       "6195  BPGR  5min8minE   WW        IM   BOP  IDEF      SA      Q\n",
       "6196  BPCR  5min8minE   WW        IM   BOP    VM     NSA      Q\n",
       "6197  ELAI  5min8minE   WW        IM   BOP    VM      SA      Q"
      ]
     },
     "execution_count": 27,
     "metadata": {},
     "output_type": "execute_result"
    }
   ],
   "source": [
    "classification1.tail(5)"
   ]
  },
  {
   "cell_type": "code",
   "execution_count": 28,
   "metadata": {
    "collapsed": true
   },
   "outputs": [],
   "source": [
    "classification2 = pd.read_excel('CSDB classification tables.xlsx', 'cord_cpa')"
   ]
  },
  {
   "cell_type": "code",
   "execution_count": 29,
   "metadata": {
    "collapsed": true
   },
   "outputs": [
    {
     "data": {
      "text/html": [
       "<div>\n",
       "<style>\n",
       "    .dataframe thead tr:only-child th {\n",
       "        text-align: right;\n",
       "    }\n",
       "\n",
       "    .dataframe thead th {\n",
       "        text-align: left;\n",
       "    }\n",
       "\n",
       "    .dataframe tbody tr th {\n",
       "        vertical-align: top;\n",
       "    }\n",
       "</style>\n",
       "<table border=\"1\" class=\"dataframe\">\n",
       "  <thead>\n",
       "    <tr style=\"text-align: right;\">\n",
       "      <th></th>\n",
       "      <th>cdid</th>\n",
       "      <th>PRODUCT</th>\n",
       "      <th>AREA</th>\n",
       "      <th>DIRECTION</th>\n",
       "      <th>BASIS</th>\n",
       "      <th>PRICE</th>\n",
       "      <th>SEASADJ</th>\n",
       "      <th>PERIOD</th>\n",
       "    </tr>\n",
       "  </thead>\n",
       "  <tbody>\n",
       "    <tr>\n",
       "      <th>0</th>\n",
       "      <td>P42L</td>\n",
       "      <td>24.2</td>\n",
       "      <td>EU</td>\n",
       "      <td>EX</td>\n",
       "      <td>BOP</td>\n",
       "      <td>CP</td>\n",
       "      <td>NSA</td>\n",
       "      <td>Q</td>\n",
       "    </tr>\n",
       "    <tr>\n",
       "      <th>1</th>\n",
       "      <td>P483</td>\n",
       "      <td>24.2</td>\n",
       "      <td>EU</td>\n",
       "      <td>EX</td>\n",
       "      <td>BOP</td>\n",
       "      <td>CP</td>\n",
       "      <td>SA</td>\n",
       "      <td>Q</td>\n",
       "    </tr>\n",
       "    <tr>\n",
       "      <th>2</th>\n",
       "      <td>P4DJ</td>\n",
       "      <td>24.2</td>\n",
       "      <td>EU</td>\n",
       "      <td>EX</td>\n",
       "      <td>BOP</td>\n",
       "      <td>CVM</td>\n",
       "      <td>NSA</td>\n",
       "      <td>Q</td>\n",
       "    </tr>\n",
       "    <tr>\n",
       "      <th>3</th>\n",
       "      <td>P4IZ</td>\n",
       "      <td>24.2</td>\n",
       "      <td>EU</td>\n",
       "      <td>EX</td>\n",
       "      <td>BOP</td>\n",
       "      <td>CVM</td>\n",
       "      <td>SA</td>\n",
       "      <td>Q</td>\n",
       "    </tr>\n",
       "    <tr>\n",
       "      <th>4</th>\n",
       "      <td>P3EP</td>\n",
       "      <td>24.2</td>\n",
       "      <td>EU</td>\n",
       "      <td>IM</td>\n",
       "      <td>BOP</td>\n",
       "      <td>CP</td>\n",
       "      <td>NSA</td>\n",
       "      <td>Q</td>\n",
       "    </tr>\n",
       "  </tbody>\n",
       "</table>\n",
       "</div>"
      ],
      "text/plain": [
       "   cdid PRODUCT AREA DIRECTION BASIS PRICE SEASADJ PERIOD\n",
       "0  P42L    24.2   EU        EX   BOP    CP     NSA      Q\n",
       "1  P483    24.2   EU        EX   BOP    CP      SA      Q\n",
       "2  P4DJ    24.2   EU        EX   BOP   CVM     NSA      Q\n",
       "3  P4IZ    24.2   EU        EX   BOP   CVM      SA      Q\n",
       "4  P3EP    24.2   EU        IM   BOP    CP     NSA      Q"
      ]
     },
     "execution_count": 29,
     "metadata": {},
     "output_type": "execute_result"
    }
   ],
   "source": [
    "classification2.head(5)"
   ]
  },
  {
   "cell_type": "code",
   "execution_count": 30,
   "metadata": {
    "collapsed": true
   },
   "outputs": [],
   "source": [
    "classification2.rename(index = str, columns = {'PRODUCT':'COMMODITY'}, inplace = True)"
   ]
  },
  {
   "cell_type": "code",
   "execution_count": 31,
   "metadata": {
    "collapsed": true
   },
   "outputs": [],
   "source": [
    "classification3 = pd.read_excel('CSDB classification tables.xlsx', 'cord_country')"
   ]
  },
  {
   "cell_type": "code",
   "execution_count": 32,
   "metadata": {
    "collapsed": true
   },
   "outputs": [
    {
     "data": {
      "text/html": [
       "<div>\n",
       "<style>\n",
       "    .dataframe thead tr:only-child th {\n",
       "        text-align: right;\n",
       "    }\n",
       "\n",
       "    .dataframe thead th {\n",
       "        text-align: left;\n",
       "    }\n",
       "\n",
       "    .dataframe tbody tr th {\n",
       "        vertical-align: top;\n",
       "    }\n",
       "</style>\n",
       "<table border=\"1\" class=\"dataframe\">\n",
       "  <thead>\n",
       "    <tr style=\"text-align: right;\">\n",
       "      <th></th>\n",
       "      <th>cdid</th>\n",
       "      <th>COUNTRY</th>\n",
       "      <th>DIRECTION</th>\n",
       "      <th>BASIS</th>\n",
       "      <th>SEASADJ</th>\n",
       "      <th>PERIOD</th>\n",
       "    </tr>\n",
       "  </thead>\n",
       "  <tbody>\n",
       "    <tr>\n",
       "      <th>0</th>\n",
       "      <td>KN2O</td>\n",
       "      <td>XS</td>\n",
       "      <td>BAL</td>\n",
       "      <td>BOP</td>\n",
       "      <td>NSA</td>\n",
       "      <td>Q</td>\n",
       "    </tr>\n",
       "    <tr>\n",
       "      <th>1</th>\n",
       "      <td>LGDS</td>\n",
       "      <td>V4</td>\n",
       "      <td>BAL</td>\n",
       "      <td>BOP</td>\n",
       "      <td>NSA</td>\n",
       "      <td>Q</td>\n",
       "    </tr>\n",
       "    <tr>\n",
       "      <th>2</th>\n",
       "      <td>L87P</td>\n",
       "      <td>V3</td>\n",
       "      <td>BAL</td>\n",
       "      <td>BOP</td>\n",
       "      <td>NSA</td>\n",
       "      <td>Q</td>\n",
       "    </tr>\n",
       "    <tr>\n",
       "      <th>3</th>\n",
       "      <td>L87J</td>\n",
       "      <td>V2</td>\n",
       "      <td>BAL</td>\n",
       "      <td>BOP</td>\n",
       "      <td>NSA</td>\n",
       "      <td>Q</td>\n",
       "    </tr>\n",
       "    <tr>\n",
       "      <th>4</th>\n",
       "      <td>MHN8</td>\n",
       "      <td>I7</td>\n",
       "      <td>BAL</td>\n",
       "      <td>BOP</td>\n",
       "      <td>NSA</td>\n",
       "      <td>Q</td>\n",
       "    </tr>\n",
       "  </tbody>\n",
       "</table>\n",
       "</div>"
      ],
      "text/plain": [
       "   cdid COUNTRY DIRECTION BASIS SEASADJ PERIOD\n",
       "0  KN2O      XS       BAL   BOP     NSA      Q\n",
       "1  LGDS      V4       BAL   BOP     NSA      Q\n",
       "2  L87P      V3       BAL   BOP     NSA      Q\n",
       "3  L87J      V2       BAL   BOP     NSA      Q\n",
       "4  MHN8      I7       BAL   BOP     NSA      Q"
      ]
     },
     "execution_count": 32,
     "metadata": {},
     "output_type": "execute_result"
    }
   ],
   "source": [
    "classification3.head(5)"
   ]
  },
  {
   "cell_type": "code",
   "execution_count": 33,
   "metadata": {
    "collapsed": true
   },
   "outputs": [],
   "source": [
    "classification3['COMMODITY'] = ''\n",
    "classification3['PRICE'] = ''"
   ]
  },
  {
   "cell_type": "code",
   "execution_count": 34,
   "metadata": {
    "collapsed": true
   },
   "outputs": [],
   "source": [
    "classification3.rename(index = str, columns = {'COUNTRY':'AREA'}, inplace = True)"
   ]
  },
  {
   "cell_type": "code",
   "execution_count": 35,
   "metadata": {
    "collapsed": true
   },
   "outputs": [],
   "source": [
    "temp_table = pd.concat([temp_table, classification1, classification2,classification3])"
   ]
  },
  {
   "cell_type": "code",
   "execution_count": 36,
   "metadata": {
    "collapsed": true
   },
   "outputs": [
    {
     "data": {
      "text/html": [
       "<div>\n",
       "<style>\n",
       "    .dataframe thead tr:only-child th {\n",
       "        text-align: right;\n",
       "    }\n",
       "\n",
       "    .dataframe thead th {\n",
       "        text-align: left;\n",
       "    }\n",
       "\n",
       "    .dataframe tbody tr th {\n",
       "        vertical-align: top;\n",
       "    }\n",
       "</style>\n",
       "<table border=\"1\" class=\"dataframe\">\n",
       "  <thead>\n",
       "    <tr style=\"text-align: right;\">\n",
       "      <th></th>\n",
       "      <th>AREA</th>\n",
       "      <th>BASIS</th>\n",
       "      <th>COMMODITY</th>\n",
       "      <th>DIRECTION</th>\n",
       "      <th>PERIOD</th>\n",
       "      <th>PRICE</th>\n",
       "      <th>SEASADJ</th>\n",
       "      <th>cdid</th>\n",
       "    </tr>\n",
       "  </thead>\n",
       "  <tbody>\n",
       "    <tr>\n",
       "      <th>0</th>\n",
       "      <td>EU</td>\n",
       "      <td>BOP</td>\n",
       "      <td>2plus4</td>\n",
       "      <td>BAL</td>\n",
       "      <td>M</td>\n",
       "      <td>CP</td>\n",
       "      <td>NSA</td>\n",
       "      <td>SDSX</td>\n",
       "    </tr>\n",
       "    <tr>\n",
       "      <th>1</th>\n",
       "      <td>EU</td>\n",
       "      <td>BOP</td>\n",
       "      <td>5minus8</td>\n",
       "      <td>BAL</td>\n",
       "      <td>M</td>\n",
       "      <td>CP</td>\n",
       "      <td>NSA</td>\n",
       "      <td>SGLO</td>\n",
       "    </tr>\n",
       "    <tr>\n",
       "      <th>2</th>\n",
       "      <td>EU</td>\n",
       "      <td>BOP</td>\n",
       "      <td>7plus8</td>\n",
       "      <td>BAL</td>\n",
       "      <td>M</td>\n",
       "      <td>CP</td>\n",
       "      <td>NSA</td>\n",
       "      <td>SFJC</td>\n",
       "    </tr>\n",
       "    <tr>\n",
       "      <th>3</th>\n",
       "      <td>EU</td>\n",
       "      <td>BOP</td>\n",
       "      <td>TminusO</td>\n",
       "      <td>BAL</td>\n",
       "      <td>M</td>\n",
       "      <td>CP</td>\n",
       "      <td>NSA</td>\n",
       "      <td>LKTX</td>\n",
       "    </tr>\n",
       "    <tr>\n",
       "      <th>4</th>\n",
       "      <td>EU</td>\n",
       "      <td>BOP</td>\n",
       "      <td>0plus1</td>\n",
       "      <td>BAL</td>\n",
       "      <td>M</td>\n",
       "      <td>CP</td>\n",
       "      <td>NSA</td>\n",
       "      <td>SDMS</td>\n",
       "    </tr>\n",
       "  </tbody>\n",
       "</table>\n",
       "</div>"
      ],
      "text/plain": [
       "  AREA BASIS COMMODITY DIRECTION PERIOD PRICE SEASADJ  cdid\n",
       "0   EU   BOP    2plus4       BAL      M    CP     NSA  SDSX\n",
       "1   EU   BOP   5minus8       BAL      M    CP     NSA  SGLO\n",
       "2   EU   BOP    7plus8       BAL      M    CP     NSA  SFJC\n",
       "3   EU   BOP   TminusO       BAL      M    CP     NSA  LKTX\n",
       "4   EU   BOP    0plus1       BAL      M    CP     NSA  SDMS"
      ]
     },
     "execution_count": 36,
     "metadata": {},
     "output_type": "execute_result"
    }
   ],
   "source": [
    "temp_table.head()"
   ]
  },
  {
   "cell_type": "code",
   "execution_count": 37,
   "metadata": {},
   "outputs": [
    {
     "data": {
      "text/plain": [
       "(18264, 8)"
      ]
     },
     "execution_count": 37,
     "metadata": {},
     "output_type": "execute_result"
    }
   ],
   "source": [
    "temp_table.shape"
   ]
  },
  {
   "cell_type": "code",
   "execution_count": 38,
   "metadata": {
    "collapsed": true
   },
   "outputs": [],
   "source": [
    "temp_table.drop_duplicates(['cdid'], keep='first', inplace=True)"
   ]
  },
  {
   "cell_type": "code",
   "execution_count": 39,
   "metadata": {},
   "outputs": [
    {
     "data": {
      "text/plain": [
       "(12043, 8)"
      ]
     },
     "execution_count": 39,
     "metadata": {},
     "output_type": "execute_result"
    }
   ],
   "source": [
    "temp_table.shape"
   ]
  },
  {
   "cell_type": "code",
   "execution_count": 40,
   "metadata": {},
   "outputs": [
    {
     "data": {
      "text/html": [
       "<div>\n",
       "<style>\n",
       "    .dataframe thead tr:only-child th {\n",
       "        text-align: right;\n",
       "    }\n",
       "\n",
       "    .dataframe thead th {\n",
       "        text-align: left;\n",
       "    }\n",
       "\n",
       "    .dataframe tbody tr th {\n",
       "        vertical-align: top;\n",
       "    }\n",
       "</style>\n",
       "<table border=\"1\" class=\"dataframe\">\n",
       "  <thead>\n",
       "    <tr style=\"text-align: right;\">\n",
       "      <th></th>\n",
       "      <th>OBS</th>\n",
       "      <th>TIME</th>\n",
       "      <th>TIMEUNIT</th>\n",
       "      <th>Geography</th>\n",
       "      <th>Cdid</th>\n",
       "      <th>Unit</th>\n",
       "      <th>Measure Type</th>\n",
       "      <th>Title</th>\n",
       "    </tr>\n",
       "  </thead>\n",
       "  <tbody>\n",
       "    <tr>\n",
       "      <th>0</th>\n",
       "      <td>16484.0</td>\n",
       "      <td>1998</td>\n",
       "      <td>Year</td>\n",
       "      <td>K02000001</td>\n",
       "      <td>P25X</td>\n",
       "      <td>£ Millions</td>\n",
       "      <td>GBP Total</td>\n",
       "      <td>CPA 08:WW:IM:CP:BOP:NSA: 29.1. Motor vehicles</td>\n",
       "    </tr>\n",
       "    <tr>\n",
       "      <th>1</th>\n",
       "      <td>103.0</td>\n",
       "      <td>1998</td>\n",
       "      <td>Year</td>\n",
       "      <td>K02000001</td>\n",
       "      <td>P269</td>\n",
       "      <td>£ Millions</td>\n",
       "      <td>GBP Total</td>\n",
       "      <td>CPA 08:WW:IM:CP:BOP:NSA: 30.4. Military fighti...</td>\n",
       "    </tr>\n",
       "    <tr>\n",
       "      <th>2</th>\n",
       "      <td>22961.0</td>\n",
       "      <td>1998</td>\n",
       "      <td>Year</td>\n",
       "      <td>K02000001</td>\n",
       "      <td>P25W</td>\n",
       "      <td>£ Millions</td>\n",
       "      <td>GBP Total</td>\n",
       "      <td>CPA 08:WW:IM:CP:BOP:NSA: 29. Motor vehicles, t...</td>\n",
       "    </tr>\n",
       "    <tr>\n",
       "      <th>3</th>\n",
       "      <td>247.0</td>\n",
       "      <td>1998</td>\n",
       "      <td>Year</td>\n",
       "      <td>K02000001</td>\n",
       "      <td>P268</td>\n",
       "      <td>£ Millions</td>\n",
       "      <td>GBP Total</td>\n",
       "      <td>CPA 08:WW:IM:CP:BOP:NSA: 30.2. Railway locomot...</td>\n",
       "    </tr>\n",
       "    <tr>\n",
       "      <th>4</th>\n",
       "      <td>6165.0</td>\n",
       "      <td>1998</td>\n",
       "      <td>Year</td>\n",
       "      <td>K02000001</td>\n",
       "      <td>P25Z</td>\n",
       "      <td>£ Millions</td>\n",
       "      <td>GBP Total</td>\n",
       "      <td>CPA 08:WW:IM:CP:BOP:NSA: 29.3. Parts &amp; accesso...</td>\n",
       "    </tr>\n",
       "  </tbody>\n",
       "</table>\n",
       "</div>"
      ],
      "text/plain": [
       "       OBS  TIME TIMEUNIT  Geography  Cdid        Unit Measure Type  \\\n",
       "0  16484.0  1998     Year  K02000001  P25X  £ Millions    GBP Total   \n",
       "1    103.0  1998     Year  K02000001  P269  £ Millions    GBP Total   \n",
       "2  22961.0  1998     Year  K02000001  P25W  £ Millions    GBP Total   \n",
       "3    247.0  1998     Year  K02000001  P268  £ Millions    GBP Total   \n",
       "4   6165.0  1998     Year  K02000001  P25Z  £ Millions    GBP Total   \n",
       "\n",
       "                                               Title  \n",
       "0      CPA 08:WW:IM:CP:BOP:NSA: 29.1. Motor vehicles  \n",
       "1  CPA 08:WW:IM:CP:BOP:NSA: 30.4. Military fighti...  \n",
       "2  CPA 08:WW:IM:CP:BOP:NSA: 29. Motor vehicles, t...  \n",
       "3  CPA 08:WW:IM:CP:BOP:NSA: 30.2. Railway locomot...  \n",
       "4  CPA 08:WW:IM:CP:BOP:NSA: 29.3. Parts & accesso...  "
      ]
     },
     "execution_count": 40,
     "metadata": {},
     "output_type": "execute_result"
    }
   ],
   "source": [
    "new_table.head()"
   ]
  },
  {
   "cell_type": "code",
   "execution_count": null,
   "metadata": {
    "collapsed": true
   },
   "outputs": [],
   "source": [
    "# new_table.head(1)['Cdid']"
   ]
  },
  {
   "cell_type": "code",
   "execution_count": null,
   "metadata": {
    "collapsed": true
   },
   "outputs": [],
   "source": [
    "# temp_table.head(1)['cdid']"
   ]
  },
  {
   "cell_type": "code",
   "execution_count": 41,
   "metadata": {
    "collapsed": true
   },
   "outputs": [],
   "source": [
    "new_table = pd.merge(new_table,temp_table, how = 'left', left_on = 'Cdid', right_on = 'cdid')"
   ]
  },
  {
   "cell_type": "code",
   "execution_count": 42,
   "metadata": {
    "collapsed": true
   },
   "outputs": [
    {
     "data": {
      "text/html": [
       "<div>\n",
       "<style>\n",
       "    .dataframe thead tr:only-child th {\n",
       "        text-align: right;\n",
       "    }\n",
       "\n",
       "    .dataframe thead th {\n",
       "        text-align: left;\n",
       "    }\n",
       "\n",
       "    .dataframe tbody tr th {\n",
       "        vertical-align: top;\n",
       "    }\n",
       "</style>\n",
       "<table border=\"1\" class=\"dataframe\">\n",
       "  <thead>\n",
       "    <tr style=\"text-align: right;\">\n",
       "      <th></th>\n",
       "      <th>OBS</th>\n",
       "      <th>TIME</th>\n",
       "      <th>TIMEUNIT</th>\n",
       "      <th>Geography</th>\n",
       "      <th>Cdid</th>\n",
       "      <th>Unit</th>\n",
       "      <th>Measure Type</th>\n",
       "      <th>Title</th>\n",
       "      <th>AREA</th>\n",
       "      <th>BASIS</th>\n",
       "      <th>COMMODITY</th>\n",
       "      <th>DIRECTION</th>\n",
       "      <th>PERIOD</th>\n",
       "      <th>PRICE</th>\n",
       "      <th>SEASADJ</th>\n",
       "      <th>cdid</th>\n",
       "    </tr>\n",
       "  </thead>\n",
       "  <tbody>\n",
       "    <tr>\n",
       "      <th>0</th>\n",
       "      <td>16484.0</td>\n",
       "      <td>1998</td>\n",
       "      <td>Year</td>\n",
       "      <td>K02000001</td>\n",
       "      <td>P25X</td>\n",
       "      <td>£ Millions</td>\n",
       "      <td>GBP Total</td>\n",
       "      <td>CPA 08:WW:IM:CP:BOP:NSA: 29.1. Motor vehicles</td>\n",
       "      <td>WW</td>\n",
       "      <td>BOP</td>\n",
       "      <td>29.1</td>\n",
       "      <td>IM</td>\n",
       "      <td>Q</td>\n",
       "      <td>CP</td>\n",
       "      <td>NSA</td>\n",
       "      <td>P25X</td>\n",
       "    </tr>\n",
       "    <tr>\n",
       "      <th>1</th>\n",
       "      <td>103.0</td>\n",
       "      <td>1998</td>\n",
       "      <td>Year</td>\n",
       "      <td>K02000001</td>\n",
       "      <td>P269</td>\n",
       "      <td>£ Millions</td>\n",
       "      <td>GBP Total</td>\n",
       "      <td>CPA 08:WW:IM:CP:BOP:NSA: 30.4. Military fighti...</td>\n",
       "      <td>WW</td>\n",
       "      <td>BOP</td>\n",
       "      <td>30.4</td>\n",
       "      <td>IM</td>\n",
       "      <td>Q</td>\n",
       "      <td>CP</td>\n",
       "      <td>NSA</td>\n",
       "      <td>P269</td>\n",
       "    </tr>\n",
       "    <tr>\n",
       "      <th>2</th>\n",
       "      <td>22961.0</td>\n",
       "      <td>1998</td>\n",
       "      <td>Year</td>\n",
       "      <td>K02000001</td>\n",
       "      <td>P25W</td>\n",
       "      <td>£ Millions</td>\n",
       "      <td>GBP Total</td>\n",
       "      <td>CPA 08:WW:IM:CP:BOP:NSA: 29. Motor vehicles, t...</td>\n",
       "      <td>WW</td>\n",
       "      <td>BOP</td>\n",
       "      <td>29</td>\n",
       "      <td>IM</td>\n",
       "      <td>Q</td>\n",
       "      <td>CP</td>\n",
       "      <td>NSA</td>\n",
       "      <td>P25W</td>\n",
       "    </tr>\n",
       "    <tr>\n",
       "      <th>3</th>\n",
       "      <td>247.0</td>\n",
       "      <td>1998</td>\n",
       "      <td>Year</td>\n",
       "      <td>K02000001</td>\n",
       "      <td>P268</td>\n",
       "      <td>£ Millions</td>\n",
       "      <td>GBP Total</td>\n",
       "      <td>CPA 08:WW:IM:CP:BOP:NSA: 30.2. Railway locomot...</td>\n",
       "      <td>WW</td>\n",
       "      <td>BOP</td>\n",
       "      <td>30.2</td>\n",
       "      <td>IM</td>\n",
       "      <td>Q</td>\n",
       "      <td>CP</td>\n",
       "      <td>NSA</td>\n",
       "      <td>P268</td>\n",
       "    </tr>\n",
       "    <tr>\n",
       "      <th>4</th>\n",
       "      <td>6165.0</td>\n",
       "      <td>1998</td>\n",
       "      <td>Year</td>\n",
       "      <td>K02000001</td>\n",
       "      <td>P25Z</td>\n",
       "      <td>£ Millions</td>\n",
       "      <td>GBP Total</td>\n",
       "      <td>CPA 08:WW:IM:CP:BOP:NSA: 29.3. Parts &amp; accesso...</td>\n",
       "      <td>WW</td>\n",
       "      <td>BOP</td>\n",
       "      <td>29.3</td>\n",
       "      <td>IM</td>\n",
       "      <td>Q</td>\n",
       "      <td>CP</td>\n",
       "      <td>NSA</td>\n",
       "      <td>P25Z</td>\n",
       "    </tr>\n",
       "  </tbody>\n",
       "</table>\n",
       "</div>"
      ],
      "text/plain": [
       "       OBS  TIME TIMEUNIT  Geography  Cdid        Unit Measure Type  \\\n",
       "0  16484.0  1998     Year  K02000001  P25X  £ Millions    GBP Total   \n",
       "1    103.0  1998     Year  K02000001  P269  £ Millions    GBP Total   \n",
       "2  22961.0  1998     Year  K02000001  P25W  £ Millions    GBP Total   \n",
       "3    247.0  1998     Year  K02000001  P268  £ Millions    GBP Total   \n",
       "4   6165.0  1998     Year  K02000001  P25Z  £ Millions    GBP Total   \n",
       "\n",
       "                                               Title AREA BASIS COMMODITY  \\\n",
       "0      CPA 08:WW:IM:CP:BOP:NSA: 29.1. Motor vehicles   WW   BOP      29.1   \n",
       "1  CPA 08:WW:IM:CP:BOP:NSA: 30.4. Military fighti...   WW   BOP      30.4   \n",
       "2  CPA 08:WW:IM:CP:BOP:NSA: 29. Motor vehicles, t...   WW   BOP        29   \n",
       "3  CPA 08:WW:IM:CP:BOP:NSA: 30.2. Railway locomot...   WW   BOP      30.2   \n",
       "4  CPA 08:WW:IM:CP:BOP:NSA: 29.3. Parts & accesso...   WW   BOP      29.3   \n",
       "\n",
       "  DIRECTION PERIOD PRICE SEASADJ  cdid  \n",
       "0        IM      Q    CP     NSA  P25X  \n",
       "1        IM      Q    CP     NSA  P269  \n",
       "2        IM      Q    CP     NSA  P25W  \n",
       "3        IM      Q    CP     NSA  P268  \n",
       "4        IM      Q    CP     NSA  P25Z  "
      ]
     },
     "execution_count": 42,
     "metadata": {},
     "output_type": "execute_result"
    }
   ],
   "source": [
    "new_table.head(5)"
   ]
  },
  {
   "cell_type": "code",
   "execution_count": 43,
   "metadata": {
    "collapsed": true
   },
   "outputs": [],
   "source": [
    "new_table.drop(['cdid'], axis = 1, inplace = True)"
   ]
  },
  {
   "cell_type": "code",
   "execution_count": 44,
   "metadata": {
    "collapsed": true
   },
   "outputs": [],
   "source": [
    "new_table['Year'] = new_table['TIME'].map(lambda x: str(x)[:4])"
   ]
  },
  {
   "cell_type": "code",
   "execution_count": 45,
   "metadata": {
    "collapsed": true
   },
   "outputs": [],
   "source": [
    "new_table['Months/Quarter'] = new_table['TIME'].map(lambda x: str(x)[4:])"
   ]
  },
  {
   "cell_type": "code",
   "execution_count": 46,
   "metadata": {
    "collapsed": true
   },
   "outputs": [],
   "source": [
    "new_table = new_table.drop('TIME', axis=1)"
   ]
  },
  {
   "cell_type": "code",
   "execution_count": 47,
   "metadata": {
    "collapsed": true
   },
   "outputs": [],
   "source": [
    "new_table.rename(index= str, columns= {'Year':'TIME'}, inplace = True)"
   ]
  },
  {
   "cell_type": "code",
   "execution_count": 48,
   "metadata": {
    "collapsed": true
   },
   "outputs": [
    {
     "data": {
      "text/html": [
       "<div>\n",
       "<style>\n",
       "    .dataframe thead tr:only-child th {\n",
       "        text-align: right;\n",
       "    }\n",
       "\n",
       "    .dataframe thead th {\n",
       "        text-align: left;\n",
       "    }\n",
       "\n",
       "    .dataframe tbody tr th {\n",
       "        vertical-align: top;\n",
       "    }\n",
       "</style>\n",
       "<table border=\"1\" class=\"dataframe\">\n",
       "  <thead>\n",
       "    <tr style=\"text-align: right;\">\n",
       "      <th></th>\n",
       "      <th>OBS</th>\n",
       "      <th>TIMEUNIT</th>\n",
       "      <th>Geography</th>\n",
       "      <th>Cdid</th>\n",
       "      <th>Unit</th>\n",
       "      <th>Measure Type</th>\n",
       "      <th>Title</th>\n",
       "      <th>AREA</th>\n",
       "      <th>BASIS</th>\n",
       "      <th>COMMODITY</th>\n",
       "      <th>DIRECTION</th>\n",
       "      <th>PERIOD</th>\n",
       "      <th>PRICE</th>\n",
       "      <th>SEASADJ</th>\n",
       "      <th>TIME</th>\n",
       "      <th>Months/Quarter</th>\n",
       "    </tr>\n",
       "  </thead>\n",
       "  <tbody>\n",
       "    <tr>\n",
       "      <th>0</th>\n",
       "      <td>16484.0</td>\n",
       "      <td>Year</td>\n",
       "      <td>K02000001</td>\n",
       "      <td>P25X</td>\n",
       "      <td>£ Millions</td>\n",
       "      <td>GBP Total</td>\n",
       "      <td>CPA 08:WW:IM:CP:BOP:NSA: 29.1. Motor vehicles</td>\n",
       "      <td>WW</td>\n",
       "      <td>BOP</td>\n",
       "      <td>29.1</td>\n",
       "      <td>IM</td>\n",
       "      <td>Q</td>\n",
       "      <td>CP</td>\n",
       "      <td>NSA</td>\n",
       "      <td>1998</td>\n",
       "      <td></td>\n",
       "    </tr>\n",
       "    <tr>\n",
       "      <th>1</th>\n",
       "      <td>103.0</td>\n",
       "      <td>Year</td>\n",
       "      <td>K02000001</td>\n",
       "      <td>P269</td>\n",
       "      <td>£ Millions</td>\n",
       "      <td>GBP Total</td>\n",
       "      <td>CPA 08:WW:IM:CP:BOP:NSA: 30.4. Military fighti...</td>\n",
       "      <td>WW</td>\n",
       "      <td>BOP</td>\n",
       "      <td>30.4</td>\n",
       "      <td>IM</td>\n",
       "      <td>Q</td>\n",
       "      <td>CP</td>\n",
       "      <td>NSA</td>\n",
       "      <td>1998</td>\n",
       "      <td></td>\n",
       "    </tr>\n",
       "    <tr>\n",
       "      <th>2</th>\n",
       "      <td>22961.0</td>\n",
       "      <td>Year</td>\n",
       "      <td>K02000001</td>\n",
       "      <td>P25W</td>\n",
       "      <td>£ Millions</td>\n",
       "      <td>GBP Total</td>\n",
       "      <td>CPA 08:WW:IM:CP:BOP:NSA: 29. Motor vehicles, t...</td>\n",
       "      <td>WW</td>\n",
       "      <td>BOP</td>\n",
       "      <td>29</td>\n",
       "      <td>IM</td>\n",
       "      <td>Q</td>\n",
       "      <td>CP</td>\n",
       "      <td>NSA</td>\n",
       "      <td>1998</td>\n",
       "      <td></td>\n",
       "    </tr>\n",
       "    <tr>\n",
       "      <th>3</th>\n",
       "      <td>247.0</td>\n",
       "      <td>Year</td>\n",
       "      <td>K02000001</td>\n",
       "      <td>P268</td>\n",
       "      <td>£ Millions</td>\n",
       "      <td>GBP Total</td>\n",
       "      <td>CPA 08:WW:IM:CP:BOP:NSA: 30.2. Railway locomot...</td>\n",
       "      <td>WW</td>\n",
       "      <td>BOP</td>\n",
       "      <td>30.2</td>\n",
       "      <td>IM</td>\n",
       "      <td>Q</td>\n",
       "      <td>CP</td>\n",
       "      <td>NSA</td>\n",
       "      <td>1998</td>\n",
       "      <td></td>\n",
       "    </tr>\n",
       "    <tr>\n",
       "      <th>4</th>\n",
       "      <td>6165.0</td>\n",
       "      <td>Year</td>\n",
       "      <td>K02000001</td>\n",
       "      <td>P25Z</td>\n",
       "      <td>£ Millions</td>\n",
       "      <td>GBP Total</td>\n",
       "      <td>CPA 08:WW:IM:CP:BOP:NSA: 29.3. Parts &amp; accesso...</td>\n",
       "      <td>WW</td>\n",
       "      <td>BOP</td>\n",
       "      <td>29.3</td>\n",
       "      <td>IM</td>\n",
       "      <td>Q</td>\n",
       "      <td>CP</td>\n",
       "      <td>NSA</td>\n",
       "      <td>1998</td>\n",
       "      <td></td>\n",
       "    </tr>\n",
       "  </tbody>\n",
       "</table>\n",
       "</div>"
      ],
      "text/plain": [
       "       OBS TIMEUNIT  Geography  Cdid        Unit Measure Type  \\\n",
       "0  16484.0     Year  K02000001  P25X  £ Millions    GBP Total   \n",
       "1    103.0     Year  K02000001  P269  £ Millions    GBP Total   \n",
       "2  22961.0     Year  K02000001  P25W  £ Millions    GBP Total   \n",
       "3    247.0     Year  K02000001  P268  £ Millions    GBP Total   \n",
       "4   6165.0     Year  K02000001  P25Z  £ Millions    GBP Total   \n",
       "\n",
       "                                               Title AREA BASIS COMMODITY  \\\n",
       "0      CPA 08:WW:IM:CP:BOP:NSA: 29.1. Motor vehicles   WW   BOP      29.1   \n",
       "1  CPA 08:WW:IM:CP:BOP:NSA: 30.4. Military fighti...   WW   BOP      30.4   \n",
       "2  CPA 08:WW:IM:CP:BOP:NSA: 29. Motor vehicles, t...   WW   BOP        29   \n",
       "3  CPA 08:WW:IM:CP:BOP:NSA: 30.2. Railway locomot...   WW   BOP      30.2   \n",
       "4  CPA 08:WW:IM:CP:BOP:NSA: 29.3. Parts & accesso...   WW   BOP      29.3   \n",
       "\n",
       "  DIRECTION PERIOD PRICE SEASADJ  TIME Months/Quarter  \n",
       "0        IM      Q    CP     NSA  1998                 \n",
       "1        IM      Q    CP     NSA  1998                 \n",
       "2        IM      Q    CP     NSA  1998                 \n",
       "3        IM      Q    CP     NSA  1998                 \n",
       "4        IM      Q    CP     NSA  1998                 "
      ]
     },
     "execution_count": 48,
     "metadata": {},
     "output_type": "execute_result"
    }
   ],
   "source": [
    "new_table.head(5)"
   ]
  },
  {
   "cell_type": "code",
   "execution_count": null,
   "metadata": {
    "collapsed": true
   },
   "outputs": [],
   "source": [
    "# temp_table1 = new_table[new_table['AREA'].isnull() == True] "
   ]
  },
  {
   "cell_type": "code",
   "execution_count": null,
   "metadata": {
    "collapsed": true,
    "scrolled": true
   },
   "outputs": [],
   "source": [
    "# temp_table1"
   ]
  },
  {
   "cell_type": "code",
   "execution_count": null,
   "metadata": {
    "collapsed": true
   },
   "outputs": [],
   "source": [
    "# Codelist = temp_table1['Cdid'].unique()"
   ]
  },
  {
   "cell_type": "code",
   "execution_count": null,
   "metadata": {
    "collapsed": true
   },
   "outputs": [],
   "source": [
    "# Codelist"
   ]
  },
  {
   "cell_type": "code",
   "execution_count": null,
   "metadata": {
    "collapsed": true
   },
   "outputs": [],
   "source": [
    "# codes = pd.Series(Codelist)"
   ]
  },
  {
   "cell_type": "code",
   "execution_count": null,
   "metadata": {
    "collapsed": true
   },
   "outputs": [],
   "source": [
    "# codes.to_csv('Codelist.csv', index = False)"
   ]
  },
  {
   "cell_type": "code",
   "execution_count": 49,
   "metadata": {
    "collapsed": true
   },
   "outputs": [],
   "source": [
    "new_table['Months/Quarter'] = new_table['Months/Quarter'].str.lstrip('')"
   ]
  },
  {
   "cell_type": "code",
   "execution_count": 50,
   "metadata": {
    "collapsed": true
   },
   "outputs": [],
   "source": [
    "new_table['Period'] = new_table['TIMEUNIT'].map(str)+'/'+new_table['TIME']+'-'+new_table['Months/Quarter']"
   ]
  },
  {
   "cell_type": "code",
   "execution_count": 51,
   "metadata": {
    "collapsed": true
   },
   "outputs": [],
   "source": [
    "new_table['Period'] = new_table['Period'].str.rstrip('-')"
   ]
  },
  {
   "cell_type": "code",
   "execution_count": 52,
   "metadata": {
    "collapsed": true
   },
   "outputs": [],
   "source": [
    "new_table['Period'] = new_table['Period'].map(lambda cell:cell.replace(' ', ''))"
   ]
  },
  {
   "cell_type": "code",
   "execution_count": 53,
   "metadata": {
    "collapsed": true
   },
   "outputs": [],
   "source": [
    "new_table.drop(['TIME'], axis = 1, inplace = True)\n",
    "new_table.drop(['TIMEUNIT'], axis = 1, inplace = True)\n",
    "new_table.drop(['Geography'], axis = 1, inplace = True)\n",
    "new_table.drop(['PERIOD'], axis = 1, inplace = True)\n",
    "new_table.drop(['Months/Quarter'], axis = 1, inplace = True)\n"
   ]
  },
  {
   "cell_type": "code",
   "execution_count": 54,
   "metadata": {
    "collapsed": true
   },
   "outputs": [],
   "source": [
    "new_table.rename(index= str, columns= {'OBS':'Value'}, inplace = True)\n",
    "new_table.rename(index= str, columns= {'DIRECTION':'Flow'}, inplace = True)"
   ]
  },
  {
   "cell_type": "code",
   "execution_count": 81,
   "metadata": {},
   "outputs": [],
   "source": [
    "new_table =new_table[['AREA','Period','Cdid','BASIS','COMMODITY','SEASADJ','Flow','PRICE','Measure Type','Value','Unit']]"
   ]
  },
  {
   "cell_type": "code",
   "execution_count": 82,
   "metadata": {},
   "outputs": [
    {
     "data": {
      "text/html": [
       "<div>\n",
       "<style>\n",
       "    .dataframe thead tr:only-child th {\n",
       "        text-align: right;\n",
       "    }\n",
       "\n",
       "    .dataframe thead th {\n",
       "        text-align: left;\n",
       "    }\n",
       "\n",
       "    .dataframe tbody tr th {\n",
       "        vertical-align: top;\n",
       "    }\n",
       "</style>\n",
       "<table border=\"1\" class=\"dataframe\">\n",
       "  <thead>\n",
       "    <tr style=\"text-align: right;\">\n",
       "      <th></th>\n",
       "      <th>AREA</th>\n",
       "      <th>Period</th>\n",
       "      <th>Cdid</th>\n",
       "      <th>BASIS</th>\n",
       "      <th>COMMODITY</th>\n",
       "      <th>SEASADJ</th>\n",
       "      <th>Flow</th>\n",
       "      <th>PRICE</th>\n",
       "      <th>Measure Type</th>\n",
       "      <th>Value</th>\n",
       "      <th>Unit</th>\n",
       "    </tr>\n",
       "  </thead>\n",
       "  <tbody>\n",
       "    <tr>\n",
       "      <th>435575</th>\n",
       "      <td>WW</td>\n",
       "      <td>Quarter/2017-Q4</td>\n",
       "      <td>P23O</td>\n",
       "      <td>BOP</td>\n",
       "      <td>15.2</td>\n",
       "      <td>NSA</td>\n",
       "      <td>IM</td>\n",
       "      <td>CP</td>\n",
       "      <td>GBP Total</td>\n",
       "      <td>1307.0</td>\n",
       "      <td>£ Millions</td>\n",
       "    </tr>\n",
       "    <tr>\n",
       "      <th>435576</th>\n",
       "      <td>WW</td>\n",
       "      <td>Quarter/2017-Q4</td>\n",
       "      <td>P23J</td>\n",
       "      <td>BOP</td>\n",
       "      <td>14.1</td>\n",
       "      <td>NSA</td>\n",
       "      <td>IM</td>\n",
       "      <td>CP</td>\n",
       "      <td>GBP Total</td>\n",
       "      <td>4095.0</td>\n",
       "      <td>£ Millions</td>\n",
       "    </tr>\n",
       "    <tr>\n",
       "      <th>435577</th>\n",
       "      <td>WW</td>\n",
       "      <td>Quarter/2017-Q4</td>\n",
       "      <td>P23I</td>\n",
       "      <td>BOP</td>\n",
       "      <td>14</td>\n",
       "      <td>NSA</td>\n",
       "      <td>IM</td>\n",
       "      <td>CP</td>\n",
       "      <td>GBP Total</td>\n",
       "      <td>5092.0</td>\n",
       "      <td>£ Millions</td>\n",
       "    </tr>\n",
       "    <tr>\n",
       "      <th>435578</th>\n",
       "      <td>WW</td>\n",
       "      <td>Quarter/2017-Q4</td>\n",
       "      <td>P23L</td>\n",
       "      <td>BOP</td>\n",
       "      <td>14.3</td>\n",
       "      <td>NSA</td>\n",
       "      <td>IM</td>\n",
       "      <td>CP</td>\n",
       "      <td>GBP Total</td>\n",
       "      <td>979.0</td>\n",
       "      <td>£ Millions</td>\n",
       "    </tr>\n",
       "    <tr>\n",
       "      <th>435579</th>\n",
       "      <td>WW</td>\n",
       "      <td>Quarter/2017-Q4</td>\n",
       "      <td>P23K</td>\n",
       "      <td>BOP</td>\n",
       "      <td>14.2</td>\n",
       "      <td>NSA</td>\n",
       "      <td>IM</td>\n",
       "      <td>CP</td>\n",
       "      <td>GBP Total</td>\n",
       "      <td>18.0</td>\n",
       "      <td>£ Millions</td>\n",
       "    </tr>\n",
       "  </tbody>\n",
       "</table>\n",
       "</div>"
      ],
      "text/plain": [
       "       AREA           Period  Cdid BASIS COMMODITY SEASADJ Flow PRICE  \\\n",
       "435575   WW  Quarter/2017-Q4  P23O   BOP      15.2     NSA   IM    CP   \n",
       "435576   WW  Quarter/2017-Q4  P23J   BOP      14.1     NSA   IM    CP   \n",
       "435577   WW  Quarter/2017-Q4  P23I   BOP        14     NSA   IM    CP   \n",
       "435578   WW  Quarter/2017-Q4  P23L   BOP      14.3     NSA   IM    CP   \n",
       "435579   WW  Quarter/2017-Q4  P23K   BOP      14.2     NSA   IM    CP   \n",
       "\n",
       "       Measure Type   Value        Unit  \n",
       "435575    GBP Total  1307.0  £ Millions  \n",
       "435576    GBP Total  4095.0  £ Millions  \n",
       "435577    GBP Total  5092.0  £ Millions  \n",
       "435578    GBP Total   979.0  £ Millions  \n",
       "435579    GBP Total    18.0  £ Millions  "
      ]
     },
     "execution_count": 82,
     "metadata": {},
     "output_type": "execute_result"
    }
   ],
   "source": [
    "new_table.tail(5)"
   ]
  },
  {
   "cell_type": "code",
   "execution_count": 83,
   "metadata": {},
   "outputs": [
    {
     "data": {
      "text/plain": [
       "AREA             object\n",
       "Period           object\n",
       "Cdid             object\n",
       "BASIS            object\n",
       "COMMODITY        object\n",
       "SEASADJ          object\n",
       "Flow             object\n",
       "PRICE            object\n",
       "Measure Type     object\n",
       "Value           float64\n",
       "Unit             object\n",
       "dtype: object"
      ]
     },
     "execution_count": 83,
     "metadata": {},
     "output_type": "execute_result"
    }
   ],
   "source": [
    "new_table.dtypes"
   ]
  },
  {
   "cell_type": "code",
   "execution_count": 84,
   "metadata": {
    "collapsed": true
   },
   "outputs": [],
   "source": [
    "new_table.to_csv('C:\\\\Users\\\\vamsi\\\\Desktop\\\\Gdrive\\\\Out\\\\Mret\\\\CPA_Tidydata.csv', index = False)"
   ]
  }
 ],
 "metadata": {
  "kernelspec": {
   "display_name": "Python 3",
   "language": "python",
   "name": "python3"
  },
  "language_info": {
   "codemirror_mode": {
    "name": "ipython",
    "version": 3
   },
   "file_extension": ".py",
   "mimetype": "text/x-python",
   "name": "python",
   "nbconvert_exporter": "python",
   "pygments_lexer": "ipython3",
   "version": "3.6.3"
  }
 },
 "nbformat": 4,
 "nbformat_minor": 2
}
